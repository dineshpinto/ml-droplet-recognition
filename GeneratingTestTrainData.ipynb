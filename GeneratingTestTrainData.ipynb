{
 "cells": [
  {
   "cell_type": "code",
   "execution_count": 29,
   "outputs": [],
   "source": [
    "import os\n",
    "import random\n",
    "import shutil\n",
    "from typing import Tuple"
   ],
   "metadata": {
    "collapsed": false,
    "pycharm": {
     "name": "#%%\n"
    }
   }
  },
  {
   "cell_type": "code",
   "execution_count": 30,
   "outputs": [],
   "source": [
    "class TestTrainDataHandler:\n",
    "    def __init__(self, raw_data_path: str, test_data_path: str, train_data_path: str):\n",
    "        self.raw_data_path = raw_data_path\n",
    "        self.test_data_path = test_data_path\n",
    "        self.train_data_path = train_data_path\n",
    "\n",
    "    def generate_test_train_file_lists(self, num_test_files: int, num_train_files: int) -> Tuple[list, list]:\n",
    "        file_list = [os.path.join(self.raw_data_path, file) for file in os.listdir(self.raw_data_path) if file.endswith(\".jpg\")]\n",
    "        print(f\"Length of raw file list is {len(file_list)}\")\n",
    "        test_file_list = random.sample(file_list, k=num_test_files)\n",
    "        non_test_file_list = [x for x in file_list if x not in test_file_list]\n",
    "        train_file_list = random.sample(non_test_file_list, k=num_train_files)\n",
    "        return test_file_list, train_file_list\n",
    "\n",
    "    @staticmethod\n",
    "    def __copy_files_to_folder(folder_path: str, files_to_copy: list):\n",
    "        if not os.path.exists(folder_path):\n",
    "            os.mkdir(folder_path)\n",
    "        if len(os.listdir(folder_path)) > 0:\n",
    "            for file in os.listdir(folder_path):\n",
    "                os.remove(os.path.join(folder_path, file))\n",
    "                print(f\"Removing existing file {file}\")\n",
    "\n",
    "        for file in files_to_copy:\n",
    "            shutil.copyfile(file, os.path.join(folder_path, os.path.basename(file)))\n",
    "            print(f\"{file} -> {folder_path}\")\n",
    "\n",
    "    def copy_test_train_data_files(self, test_file_list: list, train_file_list):\n",
    "        self.__copy_files_to_folder(self.train_data_path, train_file_list)\n",
    "        self.__copy_files_to_folder(self.test_data_path, test_file_list)"
   ],
   "metadata": {
    "collapsed": false,
    "pycharm": {
     "name": "#%%\n"
    }
   }
  },
  {
   "cell_type": "code",
   "execution_count": 31,
   "outputs": [],
   "source": [
    "handler = TestTrainDataHandler(\n",
    "    raw_data_path=os.path.join(\"data\", \"raw\"),\n",
    "    test_data_path=os.path.join(\"data\", \"test\"),\n",
    "    train_data_path=os.path.join(\"data\", \"train\")\n",
    ")"
   ],
   "metadata": {
    "collapsed": false,
    "pycharm": {
     "name": "#%%\n"
    }
   }
  },
  {
   "cell_type": "code",
   "execution_count": 36,
   "outputs": [
    {
     "name": "stdout",
     "output_type": "stream",
     "text": [
      "Length of raw file list is 102\n"
     ]
    }
   ],
   "source": [
    "test_files, train_files = handler.generate_test_train_file_lists(num_test_files=33, num_train_files=33)"
   ],
   "metadata": {
    "collapsed": false,
    "pycharm": {
     "name": "#%%\n"
    }
   }
  },
  {
   "cell_type": "code",
   "execution_count": 39,
   "outputs": [
    {
     "name": "stdout",
     "output_type": "stream",
     "text": [
      "data/raw/t6_well1_15.jpg -> data/train\n",
      "data/raw/t11_well3_15.jpg -> data/train\n",
      "data/raw/t8_well1_15.jpg -> data/train\n",
      "data/raw/t6_well3_4.jpg -> data/train\n",
      "data/raw/t4_well0_10.jpg -> data/train\n",
      "data/raw/t13_well0_0.jpg -> data/train\n",
      "data/raw/t3_well0_0.jpg -> data/train\n",
      "data/raw/t12_well1_0.jpg -> data/train\n",
      "data/raw/t15_well0_10.jpg -> data/train\n",
      "data/raw/t11_well0_0.jpg -> data/train\n",
      "data/raw/t2_well3_15.jpg -> data/train\n",
      "data/raw/t11_well3_4.jpg -> data/train\n",
      "data/raw/t1_well0_0.jpg -> data/train\n",
      "data/raw/t9_well0_10.jpg -> data/train\n",
      "data/raw/t12_well0_10.jpg -> data/train\n",
      "data/raw/t16_well0_10.jpg -> data/train\n",
      "data/raw/t3_well1_0.jpg -> data/train\n",
      "data/raw/t3_well3_4.jpg -> data/train\n",
      "data/raw/t12_well1_15.jpg -> data/train\n",
      "data/raw/t2_well1_0.jpg -> data/train\n",
      "data/raw/t1_well1_0.jpg -> data/train\n",
      "data/raw/t16_well1_15.jpg -> data/train\n",
      "data/raw/t11_well0_10.jpg -> data/train\n",
      "data/raw/t11_well1_0.jpg -> data/train\n",
      "data/raw/t8_well3_15.jpg -> data/train\n",
      "data/raw/t10_well3_15.jpg -> data/train\n",
      "data/raw/t4_well3_4.jpg -> data/train\n",
      "data/raw/t3_well1_15.jpg -> data/train\n",
      "data/raw/t12_well3_15.jpg -> data/train\n",
      "data/raw/t6_well3_15.jpg -> data/train\n",
      "data/raw/t10_well1_15.jpg -> data/train\n",
      "data/raw/t10_well0_10.jpg -> data/train\n",
      "data/raw/t0_well1_15.jpg -> data/train\n",
      "data/raw/t10_well3_4.jpg -> data/test\n",
      "data/raw/t4_well3_15.jpg -> data/test\n",
      "data/raw/t13_well1_0.jpg -> data/test\n",
      "data/raw/t13_well3_4.jpg -> data/test\n",
      "data/raw/t9_well0_0.jpg -> data/test\n",
      "data/raw/t5_well1_15.jpg -> data/test\n",
      "data/raw/t10_well1_0.jpg -> data/test\n",
      "data/raw/t13_well3_15.jpg -> data/test\n",
      "data/raw/t13_well1_15.jpg -> data/test\n",
      "data/raw/t16_well1_0.jpg -> data/test\n",
      "data/raw/t16_well3_4.jpg -> data/test\n",
      "data/raw/t8_well0_0.jpg -> data/test\n",
      "data/raw/t16_well0_0.jpg -> data/test\n",
      "data/raw/t2_well3_4.jpg -> data/test\n",
      "data/raw/t0_well3_15.jpg -> data/test\n",
      "data/raw/t1_well3_15.jpg -> data/test\n",
      "data/raw/t10_well0_0.jpg -> data/test\n",
      "data/raw/t9_well1_15.jpg -> data/test\n",
      "data/raw/t14_well0_0.jpg -> data/test\n",
      "data/raw/t8_well0_10.jpg -> data/test\n",
      "data/raw/t6_well0_0.jpg -> data/test\n",
      "data/raw/t15_well3_4.jpg -> data/test\n",
      "data/raw/t5_well0_10.jpg -> data/test\n",
      "data/raw/t12_well3_4.jpg -> data/test\n",
      "data/raw/t15_well3_15.jpg -> data/test\n",
      "data/raw/t4_well1_15.jpg -> data/test\n",
      "data/raw/t9_well1_0.jpg -> data/test\n",
      "data/raw/t7_well3_4.jpg -> data/test\n",
      "data/raw/t13_well0_10.jpg -> data/test\n",
      "data/raw/t0_well1_0.jpg -> data/test\n",
      "data/raw/t8_well1_0.jpg -> data/test\n",
      "data/raw/t9_well3_4.jpg -> data/test\n",
      "data/raw/t3_well0_10.jpg -> data/test\n"
     ]
    }
   ],
   "source": [
    "handler.copy_test_train_data_files(test_files, train_files)"
   ],
   "metadata": {
    "collapsed": false,
    "pycharm": {
     "name": "#%%\n"
    }
   }
  }
 ],
 "metadata": {
  "kernelspec": {
   "display_name": "Python 3",
   "language": "python",
   "name": "python3"
  },
  "language_info": {
   "codemirror_mode": {
    "name": "ipython",
    "version": 2
   },
   "file_extension": ".py",
   "mimetype": "text/x-python",
   "name": "python",
   "nbconvert_exporter": "python",
   "pygments_lexer": "ipython2",
   "version": "2.7.6"
  }
 },
 "nbformat": 4,
 "nbformat_minor": 0
}