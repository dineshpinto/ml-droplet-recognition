{
 "cells": [
  {
   "cell_type": "code",
   "execution_count": null,
   "id": "5c263c90-0ffa-450a-a9d8-8aa95956b953",
   "metadata": {},
   "outputs": [],
   "source": [
    "import os\n",
    "\n",
    "import numpy as np\n",
    "from tensorflow import keras\n",
    "from tensorflow.keras.utils import plot_model\n",
    "import cv2\n",
    "\n",
    "import matplotlib.pyplot as plt\n",
    "import ipympl\n",
    "\n",
    "import image_handler as handler"
   ]
  },
  {
   "cell_type": "code",
   "execution_count": null,
   "id": "e26a67b5-e1d7-466e-83b7-f0a310bf191f",
   "metadata": {},
   "outputs": [],
   "source": [
    "model = keras.models.load_model(\"droplet_detection_model\")"
   ]
  },
  {
   "cell_type": "code",
   "execution_count": null,
   "id": "b63b3c99-6334-4f89-901e-152c884bbc3c",
   "metadata": {},
   "outputs": [],
   "source": [
    "images = []\n",
    "for file in os.listdir(\"training_data\"):\n",
    "    if file.endswith(\".jpg\"):\n",
    "        images.append(file)\n",
    "\n",
    "images = sorted(images)"
   ]
  },
  {
   "cell_type": "code",
   "execution_count": null,
   "id": "44e9ebe6-6ef6-4c54-a3c0-32946d6de36d",
   "metadata": {},
   "outputs": [],
   "source": [
    "for idx, image in enumerate(images):\n",
    "    print(image)\n",
    "    fig, ax = plt.subplots(ncols=2, sharex=\"all\", sharey=\"all\", figsize=(10, 7))\n",
    "\n",
    "    img, _ = handler.load_test_image(os.path.join(\"training_data\", image), circle_label=None)\n",
    "    pred = model.predict(img)\n",
    "\n",
    "    ax[0].imshow(img[0, :, :, :], cmap=\"gray\")\n",
    "    ax[0].set_title(\"Experimental Data\")\n",
    "    ax[1].imshow(pred[0, :, :, :], cmap=\"gray\")\n",
    "    ax[1].set_title(\"Neural Network\")\n",
    "    \n",
    "    fig.savefig(os.path.join(\"output_data\", image), dpi=150, bbox_inches=\"tight\")\n",
    "    plt.close(\"all\")"
   ]
  },
  {
   "cell_type": "code",
   "execution_count": null,
   "id": "750fa302-54a6-4f84-beed-6e7888f8c473",
   "metadata": {},
   "outputs": [],
   "source": [
    "plot_model(model, to_file=os.path.join(\"results\", \"model.png\"), show_shapes=True)"
   ]
  },
  {
   "cell_type": "code",
   "execution_count": null,
   "id": "910f23ab-e83b-49f2-ad8d-319ade5966c7",
   "metadata": {},
   "outputs": [],
   "source": []
  }
 ],
 "metadata": {
  "kernelspec": {
   "display_name": "ml_droplet",
   "language": "python",
   "name": "ml_droplet"
  },
  "language_info": {
   "codemirror_mode": {
    "name": "ipython",
    "version": 3
   },
   "file_extension": ".py",
   "mimetype": "text/x-python",
   "name": "python",
   "nbconvert_exporter": "python",
   "pygments_lexer": "ipython3",
   "version": "3.10.2"
  }
 },
 "nbformat": 4,
 "nbformat_minor": 5
}
