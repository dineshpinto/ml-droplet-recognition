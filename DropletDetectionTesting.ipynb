{
 "cells": [
  {
   "cell_type": "code",
   "execution_count": null,
   "id": "5c263c90-0ffa-450a-a9d8-8aa95956b953",
   "metadata": {},
   "outputs": [],
   "source": [
    "import os\n",
    "\n",
    "import numpy as np\n",
    "import tensorflow as tf\n",
    "from tensorflow import keras\n",
    "import cv2\n",
    "\n",
    "import matplotlib.pyplot as plt\n",
    "import ipympl\n",
    "\n",
    "import image_handler as handler\n",
    "import test_data_generator as test\n",
    "from droplet_labels import droplet_labels"
   ]
  },
  {
   "cell_type": "code",
   "execution_count": null,
   "id": "e26a67b5-e1d7-466e-83b7-f0a310bf191f",
   "metadata": {},
   "outputs": [],
   "source": [
    "model = keras.models.load_model(\"droplet_detection_model\")"
   ]
  },
  {
   "cell_type": "code",
   "execution_count": null,
   "id": "b63b3c99-6334-4f89-901e-152c884bbc3c",
   "metadata": {},
   "outputs": [],
   "source": [
    "images = sorted(os.listdir(\"training_data\"))"
   ]
  },
  {
   "cell_type": "code",
   "execution_count": null,
   "id": "aed29c24-9705-4d4c-9e21-f26d54a0020c",
   "metadata": {},
   "outputs": [],
   "source": [
    "images_slice = images[50:60]"
   ]
  },
  {
   "cell_type": "code",
   "execution_count": null,
   "id": "44e9ebe6-6ef6-4c54-a3c0-32946d6de36d",
   "metadata": {},
   "outputs": [],
   "source": [
    "fig, ax = plt.subplots(ncols=2, nrows=len(images_slice), sharex=\"all\", sharey=\"all\", figsize=(15, 30))\n",
    "\n",
    "for idx, image in enumerate(images_slice):\n",
    "    img, _ = handler.load_test_image(os.path.join(\"training_data\", image), circle_label=None)\n",
    "    pred = model.predict(img)\n",
    "\n",
    "    ax[idx, 0].imshow(img[0, :, :, :], cmap=\"gray\")\n",
    "    _, pred = cv2.threshold(pred[0, :, :, :] * 255, 60, 255, cv2.THRESH_BINARY)\n",
    "    ax[idx, 1].imshow(pred, cmap=\"gray\")\n",
    "    \n",
    "fig.tight_layout()\n",
    "fig.savefig(os.path.join(\"results\", \"droplet_testing.png\"), dpi=300, bbox_inches=\"tight\")"
   ]
  },
  {
   "cell_type": "code",
   "execution_count": null,
   "id": "1b7b01d3-81f6-4d3b-a15e-84b82086b76a",
   "metadata": {},
   "outputs": [],
   "source": []
  }
 ],
 "metadata": {
  "kernelspec": {
   "display_name": "ml_droplet",
   "language": "python",
   "name": "ml_droplet"
  },
  "language_info": {
   "codemirror_mode": {
    "name": "ipython",
    "version": 3
   },
   "file_extension": ".py",
   "mimetype": "text/x-python",
   "name": "python",
   "nbconvert_exporter": "python",
   "pygments_lexer": "ipython3",
   "version": "3.10.2"
  }
 },
 "nbformat": 4,
 "nbformat_minor": 5
}
